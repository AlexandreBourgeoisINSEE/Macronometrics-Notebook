{
 "cells": [
  {
   "cell_type": "markdown",
   "metadata": {},
   "source": [
    "# Notebook d'exemple : simulation d'un modèle de petite dimension"
   ]
  },
  {
   "cell_type": "markdown",
   "metadata": {},
   "source": [
    "Ce notebook (et les données d'exemple) accompagne la librairie de modélisation macroéconomique  https://github.com/InseeFrLab/Macronometrics . \n",
    "\n",
    "Pour l'installer :\n",
    "* ```git clone https://github.com/InseeFrLab/Macronometrics.git ```\n",
    "* ```python setup.py install ```\n",
    "* vérifier le répertoire /donnees/colibri : les fichiers ```small_db.csv``` et ```small_coeffs.csv``` doivent être présents.\n",
    "* vérifier le répertoire /codes_modeles : le fichier ```colibri.txt``` doit être présent."
   ]
  },
  {
   "cell_type": "code",
   "execution_count": null,
   "metadata": {},
   "outputs": [],
   "source": [
    "import os\n",
    "import pandas as pd\n",
    "import sys\n",
    "import numpy as np"
   ]
  },
  {
   "cell_type": "code",
   "execution_count": null,
   "metadata": {},
   "outputs": [],
   "source": [
    "import macronometrics.model as m"
   ]
  },
  {
   "cell_type": "code",
   "execution_count": null,
   "metadata": {},
   "outputs": [],
   "source": [
    "import macronometrics.tools as t\n",
    "import macronometrics.tools_ts as ts"
   ]
  },
  {
   "cell_type": "markdown",
   "metadata": {},
   "source": [
    "# Lecture du fichier d'équations définissant le modèle #"
   ]
  },
  {
   "cell_type": "markdown",
   "metadata": {},
   "source": [
    "Un objet Model est instancié à partir du fichier d'équations. Pour plus d'informations sur les variables utilisées et les équations économétriques, voir : https://www.insee.fr/fr/statistiques/1380857 (dont le modèle d'exemple est une simplification) et http://grocer.toolbox.free.fr/ pour la version Scilab."
   ]
  },
  {
   "cell_type": "code",
   "execution_count": null,
   "metadata": {},
   "outputs": [],
   "source": [
    "colibri=m.Model()\n",
    "colibri.lexer(\"./codes_modeles/colibri.txt\")"
   ]
  },
  {
   "cell_type": "markdown",
   "metadata": {},
   "source": [
    "# Chargement du modèle #"
   ]
  },
  {
   "cell_type": "code",
   "execution_count": null,
   "metadata": {
    "scrolled": true
   },
   "outputs": [],
   "source": [
    "colibri"
   ]
  },
  {
   "cell_type": "markdown",
   "metadata": {},
   "source": [
    "Le modèle est composé d'équations, de variables (endogènes / exogènes / policy) et de coefficients (ayant vocation à être estimés)."
   ]
  },
  {
   "cell_type": "code",
   "execution_count": null,
   "metadata": {},
   "outputs": [],
   "source": [
    "colibri.eq_obj_dict['tc_d41_s14s3']"
   ]
  },
  {
   "cell_type": "markdown",
   "metadata": {},
   "source": [
    "# Construction de la fonction de résolution #"
   ]
  },
  {
   "cell_type": "markdown",
   "metadata": {},
   "source": [
    "On vérifie que le modèle n'est pas encore construit, c'est à dire que les lignes de texte qui constituent les équations du modèle n'ont pas encore été interprétées pour constituer des objets sur lesquelles on va ensuite pouvoir travailler."
   ]
  },
  {
   "cell_type": "code",
   "execution_count": null,
   "metadata": {
    "scrolled": true
   },
   "outputs": [],
   "source": [
    "colibri.is_built"
   ]
  },
  {
   "cell_type": "markdown",
   "metadata": {},
   "source": [
    "On lance la fonction de construction du modèle, qui va utiliser l'algorithme de décomposition pour analyser la structure du système d'équations et la réduire. Un nom de fonction doit être donné : prendre le même nom que celui du modèle."
   ]
  },
  {
   "cell_type": "code",
   "execution_count": null,
   "metadata": {},
   "outputs": [],
   "source": [
    "colibri.build_model(\"colibri\")"
   ]
  },
  {
   "cell_type": "code",
   "execution_count": null,
   "metadata": {},
   "outputs": [],
   "source": [
    "colibri.is_built"
   ]
  },
  {
   "cell_type": "markdown",
   "metadata": {},
   "source": [
    "A ce stade, deux types de fichiers ont été produits (dans le répertoire ```/modeles_python/```) :\n",
    "* Un fichier ```colibri.yaml``` permettant de vérifier les statuts des variables de chaque équation\n",
    "* Un fichier ```colibri.py``` comprenant différentes fonctions nécessaires à la résolution du modèle\n",
    "\n",
    "### Ouvrir le fichier colibri.yaml et comparer son contenu avec le fichier colibri.txt !"
   ]
  },
  {
   "cell_type": "markdown",
   "metadata": {},
   "source": [
    "Chaque équation est désormais analysée en vue de la simulation."
   ]
  },
  {
   "cell_type": "code",
   "execution_count": null,
   "metadata": {},
   "outputs": [],
   "source": [
    "colibri.eq_obj_dict['tc_d41_s14s3']"
   ]
  },
  {
   "cell_type": "markdown",
   "metadata": {},
   "source": [
    "# Chargement des données du modèle #"
   ]
  },
  {
   "cell_type": "markdown",
   "metadata": {},
   "source": [
    "On va tout d'abord travailler avec une base où les cales ont été fixées à 0 (elles n'ont pas encore été calculées). Ces séries temporelles sont issues des comptes trimestriels publiés par l'Insee et sont rassemblées dans un fichier .csv ."
   ]
  },
  {
   "cell_type": "code",
   "execution_count": null,
   "metadata": {},
   "outputs": [],
   "source": [
    "datamodel=pd.read_csv(\"./donnees/colibri/small_db.csv\",index_col=0,parse_dates=True)"
   ]
  },
  {
   "cell_type": "markdown",
   "metadata": {},
   "source": [
    "On vérifie l'importation sur les dernières dates. Les cales ont un suffixe \"_cale\" dans le nom des variables."
   ]
  },
  {
   "cell_type": "code",
   "execution_count": null,
   "metadata": {
    "scrolled": true
   },
   "outputs": [],
   "source": [
    "datamodel.tail()"
   ]
  },
  {
   "cell_type": "markdown",
   "metadata": {},
   "source": [
    "# Chargement des coefficients #"
   ]
  },
  {
   "cell_type": "markdown",
   "metadata": {},
   "source": [
    "On construit le dictionnaire des paramètres/coefficients du modèle à partir de leur importation. Plus tard, les coefficients pourront être initialisés sans valeur et celle ci sera estimée."
   ]
  },
  {
   "cell_type": "code",
   "execution_count": null,
   "metadata": {},
   "outputs": [],
   "source": [
    "coeffmod = t.readcoeffs(\"./donnees/colibri/small_coeffs.csv\")"
   ]
  },
  {
   "cell_type": "markdown",
   "metadata": {},
   "source": [
    "# Calage du modèle sur données historiques (1980Q3 - 2006Q4) #"
   ]
  },
  {
   "cell_type": "markdown",
   "metadata": {},
   "source": [
    "La part d'inexpliqué du modèle est quantifiée par le calcul des valeurs des cales sur une période historique. Cette étape repose sur une étape d'inversion :\n",
    " * on rend endogènes les variables de type policy (les cales) qui étaient considérées initialement exogènes\n",
    " * on rend exogènes les variables endogènes historiques\n",
    " * on simule le modèle ainsi"
   ]
  },
  {
   "cell_type": "markdown",
   "metadata": {},
   "source": [
    "Nom des endogènes associées à des cales dans le modèle :"
   ]
  },
  {
   "cell_type": "code",
   "execution_count": null,
   "metadata": {},
   "outputs": [],
   "source": [
    "endo_cales = [\"tc_d11_d5\",\"tc_d41_s14s3\",\"tc_d4z_s14s3\",\"tc_d5_s14e3\",\n",
    "              \"tc_emps_d7\",\"td_p3a_d5\",\"td_p3g_d5\",\"td_p3m_d1\",\"td_p3m_d5\",\n",
    "              \"td_p51g_d5\",\"td_p51m_d1\",\"td_p51m_d5\",\"td_p51t_d1\",\"td_p51t_d5\",\n",
    "              \"td_p523_d1\",\"td_p523_d3\",\"td_p6_d1\",\"td_p6_d5\",\"td_p7_d1\",\n",
    "              \"td_p7_d5\",\"td_pint_d5\"]"
   ]
  },
  {
   "cell_type": "markdown",
   "metadata": {},
   "source": [
    "On va procéder à une inversion du modèle pour calculer les valeurs historiques des cales, ce qui nécessite de définir un nouveau modèle tenant compte du changement de statut des variables."
   ]
  },
  {
   "cell_type": "code",
   "execution_count": null,
   "metadata": {},
   "outputs": [],
   "source": [
    "colibri_inv = colibri.copy()"
   ]
  },
  {
   "cell_type": "code",
   "execution_count": null,
   "metadata": {},
   "outputs": [],
   "source": [
    "list_policy = colibri.name_policy_list.copy()"
   ]
  },
  {
   "cell_type": "code",
   "execution_count": null,
   "metadata": {},
   "outputs": [],
   "source": [
    "list_policy"
   ]
  },
  {
   "cell_type": "code",
   "execution_count": null,
   "metadata": {
    "scrolled": true
   },
   "outputs": [],
   "source": [
    "for item in list_policy :\n",
    "    t.changesym(colibri_inv,\"endogenous\",item)"
   ]
  },
  {
   "cell_type": "code",
   "execution_count": null,
   "metadata": {},
   "outputs": [],
   "source": [
    "for item in endo_cales :\n",
    "    t.changesym(colibri_inv,\"exogenous\",item)"
   ]
  },
  {
   "cell_type": "markdown",
   "metadata": {},
   "source": [
    "On construit le nouveau modèle :"
   ]
  },
  {
   "cell_type": "code",
   "execution_count": null,
   "metadata": {},
   "outputs": [],
   "source": [
    "colibri_inv.build_model('colibri_inv')"
   ]
  },
  {
   "cell_type": "markdown",
   "metadata": {},
   "source": [
    "Le nouveau modèle a été construit (ainsi que les fonctions de résolution associées). On procède au calage :"
   ]
  },
  {
   "cell_type": "code",
   "execution_count": null,
   "metadata": {
    "scrolled": true
   },
   "outputs": [],
   "source": [
    "df_calage = t.simulate(datamodel,coeffmod,\"1980Q3\",\"2006Q4\",'colibri_inv')"
   ]
  },
  {
   "cell_type": "markdown",
   "metadata": {},
   "source": [
    "Les cales ont été calculées."
   ]
  },
  {
   "cell_type": "code",
   "execution_count": null,
   "metadata": {
    "scrolled": true
   },
   "outputs": [],
   "source": [
    "df_calage[list_policy].tail()"
   ]
  },
  {
   "cell_type": "markdown",
   "metadata": {},
   "source": [
    "Si tout se passe bien, si l'on calcule à nouveau les variables endogènes du modèle en prenant comme exogènes les cales ainsi calculées, on doit retrouver exactement les valeurs historiques initiales."
   ]
  },
  {
   "cell_type": "code",
   "execution_count": null,
   "metadata": {},
   "outputs": [],
   "source": [
    "df_verif = t.simulate(df_calage,coeffmod,\"1980Q3\",\"2006Q4\",'colibri')"
   ]
  },
  {
   "cell_type": "code",
   "execution_count": null,
   "metadata": {},
   "outputs": [],
   "source": [
    "variation_relative=abs(100*(df_verif/datamodel-1))\n",
    "stat_rel=variation_relative[colibri.name_endo_list].describe()[colibri.name_endo_list]\n",
    "stat_rel"
   ]
  },
  {
   "cell_type": "code",
   "execution_count": null,
   "metadata": {
    "scrolled": true
   },
   "outputs": [],
   "source": [
    "variation_absolue=df_verif-datamodel\n",
    "stat_abs=variation_absolue.describe()[colibri.name_endo_list]\n",
    "stat_abs"
   ]
  },
  {
   "cell_type": "markdown",
   "metadata": {},
   "source": [
    "# Construction d'une base de données pour tester les fonctions d'extrapolations de séries.  #"
   ]
  },
  {
   "cell_type": "markdown",
   "metadata": {},
   "source": [
    "Les cales et les exogènes sont prolongées à leur dernière valeur observée. Les tendances sont prolongées affines et les dummy trimestrielles sont prolongées."
   ]
  },
  {
   "cell_type": "code",
   "execution_count": null,
   "metadata": {},
   "outputs": [],
   "source": [
    "#Prolongement des cales à leur dernière valeur observée\n",
    "liste_policy=[]\n",
    "i=0\n",
    "for item in colibri.name_policy_list:\n",
    "    liste_policy.append([item,'constant',['2007Q1','2010Q4'],'last'])\n",
    "    i+=1\n",
    "    \n",
    "db_extrapol_1=ts.extrapolate_series(df_calage,liste_policy)"
   ]
  },
  {
   "cell_type": "code",
   "execution_count": null,
   "metadata": {},
   "outputs": [],
   "source": [
    "#Prolongement des exogènes à leur dernière valeur\n",
    "liste_exo=[]\n",
    "i=0\n",
    "for item in colibri.name_exo_list:\n",
    "    liste_exo.append([item,'constant',['2007Q1','2010Q4'],'last'])\n",
    "    i+=1\n",
    "db_extrapol_1=ts.extrapolate_series(db_extrapol_1,liste_exo)"
   ]
  },
  {
   "cell_type": "code",
   "execution_count": null,
   "metadata": {},
   "outputs": [],
   "source": [
    "#Prolongement de la tendance\n",
    "db_extrapol_1=ts.extrapolate_series(db_extrapol_1,[['time','affine',['2007Q1','2010Q4'],1,1]])"
   ]
  },
  {
   "cell_type": "code",
   "execution_count": null,
   "metadata": {
    "scrolled": true
   },
   "outputs": [],
   "source": [
    "#Prolongement des dummy trimestrielles\n",
    "liste_dummy_trim=[['trim1','dummy_trim',['2007Q1','2010Q4'],[1,0,0,0]],\n",
    "                 ['trim2','dummy_trim',['2007Q1','2010Q4'],[0,1,0,0]],\n",
    "                 ['trim3','dummy_trim',['2007Q1','2010Q4'],[0,0,1,0]],\n",
    "                 ['trim4','dummy_trim',['2007Q1','2010Q4'],[0,0,0,1]]]\n",
    "\n",
    "db_extrapol_1=ts.extrapolate_series(db_extrapol_1,liste_dummy_trim)"
   ]
  },
  {
   "cell_type": "code",
   "execution_count": null,
   "metadata": {},
   "outputs": [],
   "source": [
    "db_extrapol_1[colibri.name_exo_list].tail()"
   ]
  },
  {
   "cell_type": "markdown",
   "metadata": {},
   "source": [
    "Le modèle peut ensuite être simulé sur cette nouvelle base de données prolongée, pour des dates qui n'étaient pas dans la base de données historiques initiale"
   ]
  },
  {
   "cell_type": "code",
   "execution_count": null,
   "metadata": {
    "scrolled": true
   },
   "outputs": [],
   "source": [
    "simul_1=t.simulate(db_extrapol_1,coeffmod,'2007Q1','2010Q4','colibri')"
   ]
  },
  {
   "cell_type": "markdown",
   "metadata": {},
   "source": [
    "On peut faire de même en prolongant cette fois les exogènes en taux de croissance (en prévision d'une simulation d'un compte central)"
   ]
  },
  {
   "cell_type": "code",
   "execution_count": null,
   "metadata": {},
   "outputs": [],
   "source": [
    "#Prolongement des cales à leur dernière valeur\n",
    "liste_policy=[]\n",
    "i=0\n",
    "for item in colibri.name_policy_list:\n",
    "    liste_policy.append([item,'constant',['2007Q1','2010Q4'],'last'])\n",
    "    i+=1\n",
    "    \n",
    "db_extrapol_2=ts.extrapolate_series(df_calage,liste_policy)"
   ]
  },
  {
   "cell_type": "code",
   "execution_count": null,
   "metadata": {},
   "outputs": [],
   "source": [
    "#Prolongement des exogènes à un taux de croissance de 3%\n",
    "liste_exo=[]\n",
    "i=0\n",
    "for item in colibri.name_exo_list:\n",
    "    liste_exo.append([item,'taux de croissance',['2007Q1','2010Q4'],3])\n",
    "    i+=1\n",
    "db_extrapol_2=ts.extrapolate_series(db_extrapol_2,liste_exo)"
   ]
  },
  {
   "cell_type": "code",
   "execution_count": null,
   "metadata": {},
   "outputs": [],
   "source": [
    "#Prolongement de la tendance\n",
    "db_extrapol_2=ts.extrapolate_series(db_extrapol_2,[['time','affine',['2007Q1','2010Q4'],1,1]])"
   ]
  },
  {
   "cell_type": "code",
   "execution_count": null,
   "metadata": {},
   "outputs": [],
   "source": [
    "#Prolongement des dummy trimestrielles\n",
    "liste_dummy_trim=[['trim1','dummy_trim',['2007Q1','2010Q4'],[1,0,0,0]],\n",
    "                 ['trim2','dummy_trim',['2007Q1','2010Q4'],[0,1,0,0]],\n",
    "                 ['trim3','dummy_trim',['2007Q1','2010Q4'],[0,0,1,0]],\n",
    "                 ['trim4','dummy_trim',['2007Q1','2010Q4'],[0,0,0,1]]]\n",
    "\n",
    "db_extrapol_2=ts.extrapolate_series(db_extrapol_2,liste_dummy_trim)"
   ]
  },
  {
   "cell_type": "code",
   "execution_count": null,
   "metadata": {},
   "outputs": [],
   "source": [
    "db_extrapol_2[colibri.name_exo_list].tail()"
   ]
  },
  {
   "cell_type": "code",
   "execution_count": null,
   "metadata": {},
   "outputs": [],
   "source": [
    "simul_2=t.simulate(db_extrapol_2,coeffmod,'2007Q1','2010Q4','colibri')"
   ]
  },
  {
   "cell_type": "markdown",
   "metadata": {},
   "source": [
    "# On compare les deux simulations # \n",
    "(en prévision d'une fonction permettant de présenter les résultats d'une variante)  "
   ]
  },
  {
   "cell_type": "code",
   "execution_count": null,
   "metadata": {},
   "outputs": [],
   "source": [
    "(comp_trim_abs,comp_ann_abs)=ts.compare_series('absolu',simul_1,simul_2,colibri.name_endo_list,'2007Q1','2010Q4')"
   ]
  },
  {
   "cell_type": "code",
   "execution_count": null,
   "metadata": {},
   "outputs": [],
   "source": [
    "comp_ann_abs"
   ]
  },
  {
   "cell_type": "code",
   "execution_count": null,
   "metadata": {},
   "outputs": [],
   "source": [
    "(comp_trim_rel,comp_ann_rel)=ts.compare_series('relatif',simul_1,simul_2,colibri.name_endo_list,'2007Q1','2010Q4')"
   ]
  },
  {
   "cell_type": "code",
   "execution_count": null,
   "metadata": {},
   "outputs": [],
   "source": [
    "comp_ann_rel"
   ]
  },
  {
   "cell_type": "markdown",
   "metadata": {},
   "source": [
    "# Simulation d'un choc permanent de demande mondiale de 1% à partir de 1990q1 #"
   ]
  },
  {
   "cell_type": "code",
   "execution_count": null,
   "metadata": {},
   "outputs": [],
   "source": [
    "info_dict = {\"variable\" : [\"demmon\"] , \"type\" : \"pctge\" , \"value\" : 1}"
   ]
  },
  {
   "cell_type": "code",
   "execution_count": null,
   "metadata": {},
   "outputs": [],
   "source": [
    "info = [info_dict]"
   ]
  },
  {
   "cell_type": "code",
   "execution_count": null,
   "metadata": {},
   "outputs": [],
   "source": [
    "results=t.simul_shock('colibri',coeffmod,df_calage,start_date_shock='1990Q1',end_date_shock='2006Q4',start_date_sim='1985Q1',end_date_sim='2006Q4',info_shock=info)"
   ]
  },
  {
   "cell_type": "code",
   "execution_count": null,
   "metadata": {},
   "outputs": [],
   "source": [
    "(choc_demmon_trim,choc_demmon_an)=ts.compare_series('relatif',df_calage,results,colibri.name_endo_list,'1985Q1','2006Q4')"
   ]
  },
  {
   "cell_type": "code",
   "execution_count": null,
   "metadata": {
    "scrolled": true
   },
   "outputs": [],
   "source": [
    "choc_demmon_an"
   ]
  },
  {
   "cell_type": "code",
   "execution_count": null,
   "metadata": {},
   "outputs": [],
   "source": []
  }
 ],
 "metadata": {
  "kernelspec": {
   "display_name": "Python 3",
   "language": "python",
   "name": "python3"
  },
  "language_info": {
   "codemirror_mode": {
    "name": "ipython",
    "version": 3
   },
   "file_extension": ".py",
   "mimetype": "text/x-python",
   "name": "python",
   "nbconvert_exporter": "python",
   "pygments_lexer": "ipython3",
   "version": "3.7.3"
  }
 },
 "nbformat": 4,
 "nbformat_minor": 4
}
